{
  "nbformat": 4,
  "nbformat_minor": 0,
  "metadata": {
    "colab": {
      "provenance": [],
      "authorship_tag": "ABX9TyPpMy2JWPLBDeG/POagwlhk",
      "include_colab_link": true
    },
    "kernelspec": {
      "name": "python3",
      "display_name": "Python 3"
    },
    "language_info": {
      "name": "python"
    }
  },
  "cells": [
    {
      "cell_type": "markdown",
      "metadata": {
        "id": "view-in-github",
        "colab_type": "text"
      },
      "source": [
        "<a href=\"https://colab.research.google.com/github/BAgarvit/Data-Analytics-Portfolio/blob/main/Python_practice_1.ipynb\" target=\"_parent\"><img src=\"https://colab.research.google.com/assets/colab-badge.svg\" alt=\"Open In Colab\"/></a>"
      ]
    },
    {
      "cell_type": "code",
      "execution_count": null,
      "metadata": {
        "colab": {
          "base_uri": "https://localhost:8080/"
        },
        "id": "lT5mq3w1dx7f",
        "outputId": "5dcd911d-27b4-4909-b357-7a746d31e7e0"
      },
      "outputs": [
        {
          "output_type": "stream",
          "name": "stdout",
          "text": [
            "Hello world\n"
          ]
        }
      ],
      "source": [
        "print (\"Hello world\")"
      ]
    },
    {
      "cell_type": "code",
      "source": [
        "name = \"Garvit\"\n",
        "age = 27\n",
        "price = 25.99\n",
        "print (\"My name is\", name)"
      ],
      "metadata": {
        "colab": {
          "base_uri": "https://localhost:8080/"
        },
        "id": "Fw1qarLDe-2C",
        "outputId": "39f77b07-7e92-4fb9-d852-e2633dc710d1"
      },
      "execution_count": null,
      "outputs": [
        {
          "output_type": "stream",
          "name": "stdout",
          "text": [
            "My name is Garvit\n"
          ]
        }
      ]
    },
    {
      "cell_type": "code",
      "source": [
        "print (type(name))\n",
        "print (type(age))\n",
        "print (type(price))"
      ],
      "metadata": {
        "colab": {
          "base_uri": "https://localhost:8080/"
        },
        "id": "Gr99MGRJfoCw",
        "outputId": "d1c6c15d-d7a1-4219-a59c-3c983cce59b5"
      },
      "execution_count": null,
      "outputs": [
        {
          "output_type": "stream",
          "name": "stdout",
          "text": [
            "<class 'str'>\n",
            "<class 'int'>\n",
            "<class 'float'>\n"
          ]
        }
      ]
    },
    {
      "cell_type": "code",
      "source": [
        "age = 27\n",
        "old = False\n",
        "a = None\n",
        "print(type(old))\n",
        "print(type(a))"
      ],
      "metadata": {
        "colab": {
          "base_uri": "https://localhost:8080/"
        },
        "id": "SbAm3uqmn2I5",
        "outputId": "f6b62b93-66fc-44aa-89f1-129630556dcd"
      },
      "execution_count": null,
      "outputs": [
        {
          "output_type": "stream",
          "name": "stdout",
          "text": [
            "<class 'bool'>\n",
            "<class 'NoneType'>\n"
          ]
        }
      ]
    },
    {
      "cell_type": "code",
      "source": [
        "a = 2\n",
        "b = 5\n",
        "sum = a + b\n",
        "print (sum)"
      ],
      "metadata": {
        "colab": {
          "base_uri": "https://localhost:8080/"
        },
        "id": "U2qyDB9HscCO",
        "outputId": "8605aa0f-342c-47cd-f0ab-150f49b2cab7"
      },
      "execution_count": null,
      "outputs": [
        {
          "output_type": "stream",
          "name": "stdout",
          "text": [
            "7\n"
          ]
        }
      ]
    },
    {
      "cell_type": "code",
      "source": [
        "#comment\n"
      ],
      "metadata": {
        "id": "LCy7td95si__"
      },
      "execution_count": null,
      "outputs": []
    },
    {
      "cell_type": "code",
      "source": [
        "#arthemeticoperator\n",
        "a = 5\n",
        "b = 2\n",
        "print (a+b)\n",
        "print (a-b)\n",
        "print (a*b)\n",
        "print (a/b)\n",
        "print (a//b)\n",
        "print (a%b)\n",
        "print (a**b)"
      ],
      "metadata": {
        "colab": {
          "base_uri": "https://localhost:8080/"
        },
        "id": "8oSh34Fes3xr",
        "outputId": "21856845-6aa6-45bb-8ba7-0c324fd3f347"
      },
      "execution_count": null,
      "outputs": [
        {
          "output_type": "stream",
          "name": "stdout",
          "text": [
            "7\n",
            "3\n",
            "10\n",
            "2.5\n",
            "2\n",
            "1\n",
            "25\n"
          ]
        }
      ]
    },
    {
      "cell_type": "code",
      "source": [
        "#relational operators\n",
        "a = 50\n",
        "b = 20\n",
        "print(a == b)\n",
        "print(a != b)\n",
        "print(a > b)\n",
        "print(a < b)\n",
        "print(a >= b)\n",
        "print(a <= b)"
      ],
      "metadata": {
        "colab": {
          "base_uri": "https://localhost:8080/"
        },
        "id": "mspf1R4Vuj_s",
        "outputId": "24bbc8a9-8d74-43b3-b4ac-9b8f3d344e8c"
      },
      "execution_count": null,
      "outputs": [
        {
          "output_type": "stream",
          "name": "stdout",
          "text": [
            "False\n",
            "True\n",
            "True\n",
            "False\n",
            "True\n",
            "False\n"
          ]
        }
      ]
    },
    {
      "cell_type": "code",
      "source": [
        " #assingment operators\n",
        " num = 10\n",
        " num = num + 10\n",
        " num += 10\n",
        "print('num',num)"
      ],
      "metadata": {
        "colab": {
          "base_uri": "https://localhost:8080/"
        },
        "id": "3MBEywTfxsKf",
        "outputId": "abe1dd40-bfe6-47af-abb9-b7b168af1b48"
      },
      "execution_count": null,
      "outputs": [
        {
          "output_type": "stream",
          "name": "stdout",
          "text": [
            "num 30\n"
          ]
        }
      ]
    },
    {
      "cell_type": "code",
      "source": [
        "#logical operators\n",
        "a = 50\n",
        "b = 30\n",
        "print(not False)\n",
        "print(not True)\n",
        "print(True and False)\n",
        "print(True or False)"
      ],
      "metadata": {
        "colab": {
          "base_uri": "https://localhost:8080/"
        },
        "id": "l7XVo_6twgm-",
        "outputId": "2e0c0ebb-5c22-40a7-88c6-8ae893f2153e"
      },
      "execution_count": null,
      "outputs": [
        {
          "output_type": "stream",
          "name": "stdout",
          "text": [
            "True\n",
            "False\n",
            "False\n",
            "True\n"
          ]
        }
      ]
    },
    {
      "cell_type": "code",
      "source": [
        "#type conversion\n",
        "a = 2\n",
        "b = 4.25\n",
        "print (int(a + b))\n",
        "\n"
      ],
      "metadata": {
        "colab": {
          "base_uri": "https://localhost:8080/"
        },
        "id": "cpQqskkOSipr",
        "outputId": "8d23ce7c-2e57-4f2b-84d9-b83e28671fb1"
      },
      "execution_count": null,
      "outputs": [
        {
          "output_type": "stream",
          "name": "stdout",
          "text": [
            "6\n"
          ]
        }
      ]
    },
    {
      "cell_type": "code",
      "source": [
        "name = input(\"enter your name\")\n",
        "print(\"hello\",name)"
      ],
      "metadata": {
        "colab": {
          "base_uri": "https://localhost:8080/"
        },
        "id": "w3zUlrasWo7x",
        "outputId": "e1fabb8e-e1c8-485c-d93a-4c00e1c596dc"
      },
      "execution_count": null,
      "outputs": [
        {
          "output_type": "stream",
          "name": "stdout",
          "text": [
            "enter your namehi\n",
            "hello hi\n"
          ]
        }
      ]
    },
    {
      "cell_type": "code",
      "source": [
        "name = input(\"enter your name\")\n",
        "age = int(input(\"enter your age\"))\n",
        "marks = float(input(\"enter your marks\"))\n",
        "print(\"name=\",name)\n",
        "print(\"age=\",age)\n",
        "print(\"marks=\",marks)"
      ],
      "metadata": {
        "colab": {
          "base_uri": "https://localhost:8080/"
        },
        "id": "gg1J9Ev5bgwM",
        "outputId": "559be874-dbe3-478b-b1d2-1e995038c1ad"
      },
      "execution_count": null,
      "outputs": [
        {
          "output_type": "stream",
          "name": "stdout",
          "text": [
            "enter your namegarvit\n",
            "enter your age26\n",
            "enter your marks100\n",
            "name= garvit\n",
            "age= 26\n",
            "marks= 100.0\n"
          ]
        }
      ]
    },
    {
      "cell_type": "code",
      "source": [
        "number1 = int(input(\"enter first number\"))\n",
        "number2 = int(input(\"enter second number\"))\n",
        "sum = number1 + number2\n",
        "print(\"sum=\",sum)\n"
      ],
      "metadata": {
        "colab": {
          "base_uri": "https://localhost:8080/"
        },
        "id": "4Rc4FNTDftu-",
        "outputId": "afb37919-fcdc-47e4-d69f-cfdb90145c10"
      },
      "execution_count": null,
      "outputs": [
        {
          "output_type": "stream",
          "name": "stdout",
          "text": [
            "enter first number4\n",
            "enter second number4\n",
            "sum= 8\n"
          ]
        }
      ]
    },
    {
      "cell_type": "code",
      "source": [
        "side=int(input(\"side\"))\n",
        "area=side*side\n",
        "print(\"area=\",area)"
      ],
      "metadata": {
        "colab": {
          "base_uri": "https://localhost:8080/"
        },
        "id": "N6TQqdCJhh-V",
        "outputId": "d902b299-5875-498f-f7a5-e3f8a2ceebb0"
      },
      "execution_count": null,
      "outputs": [
        {
          "output_type": "stream",
          "name": "stdout",
          "text": [
            "side3\n",
            "area= 9\n"
          ]
        }
      ]
    },
    {
      "cell_type": "code",
      "source": [
        "#Strings\n",
        "str1 = \"This is a string.We did it\"\n",
        "str2 = 'This is a string.\\t We did it' #tabspace\n",
        "str3 = \"\"\"This is a string.\\n We did it\"\"\" #Next line\n",
        "print(str1)\n",
        "print(str2)\n",
        "print(str3)"
      ],
      "metadata": {
        "colab": {
          "base_uri": "https://localhost:8080/"
        },
        "id": "UB6guIsaj8JN",
        "outputId": "f9f2aec6-dd11-4733-9272-4db529d3fe93"
      },
      "execution_count": null,
      "outputs": [
        {
          "output_type": "stream",
          "name": "stdout",
          "text": [
            "This is a string.We did it\n",
            "This is a string.\t We did it\n",
            "This is a string.\n",
            " We did it\n"
          ]
        }
      ]
    },
    {
      "cell_type": "code",
      "source": [
        "#Concatenation\n",
        "str1 = \"Hello\"\n",
        "str2 = \"World\"\n",
        "str3 = str1 +\" \"+ str2\n",
        "print(str3)\n",
        "lenghth = len(str3)\n",
        "print(lenghth)\n",
        "\n"
      ],
      "metadata": {
        "colab": {
          "base_uri": "https://localhost:8080/"
        },
        "id": "Q6gwmS4Rc3a8",
        "outputId": "023dbd39-256d-43f4-8ccb-0c5c0c78c996"
      },
      "execution_count": null,
      "outputs": [
        {
          "output_type": "stream",
          "name": "stdout",
          "text": [
            "Hello World\n",
            "11\n"
          ]
        }
      ]
    },
    {
      "cell_type": "code",
      "source": [
        "#indexing\n",
        "str = \"Garvit\"\n",
        "print(str[3])\n",
        "\n",
        "print(str[-1])#backword\n"
      ],
      "metadata": {
        "colab": {
          "base_uri": "https://localhost:8080/"
        },
        "id": "u9uaadp3gKsq",
        "outputId": "5023a76a-3410-442f-8ad1-46d1ba338adb"
      },
      "execution_count": null,
      "outputs": [
        {
          "output_type": "stream",
          "name": "stdout",
          "text": [
            "v\n",
            "t\n"
          ]
        }
      ]
    },
    {
      "cell_type": "code",
      "source": [
        "#Slicing\n",
        "str = \"Apple\"\n",
        "str[-3:-1]\n"
      ],
      "metadata": {
        "colab": {
          "base_uri": "https://localhost:8080/",
          "height": 35
        },
        "id": "azPj8cPCj06H",
        "outputId": "c586b15f-57f4-4676-ac70-e905d01fca0b"
      },
      "execution_count": null,
      "outputs": [
        {
          "output_type": "execute_result",
          "data": {
            "text/plain": [
              "'pl'"
            ],
            "application/vnd.google.colaboratory.intrinsic+json": {
              "type": "string"
            }
          },
          "metadata": {},
          "execution_count": 23
        }
      ]
    },
    {
      "cell_type": "code",
      "source": [
        "#Stringfunction\n",
        "str = \"i am a coder\"\n",
        "str.endswith(\"er\")\n",
        "print(str.capitalize())\n",
        "print(str.replace(\"o\",\"a\"))\n",
        "print(str.find(\"o\"))\n",
        "print(str.count(\"am\"))"
      ],
      "metadata": {
        "colab": {
          "base_uri": "https://localhost:8080/"
        },
        "id": "7fzfTRTXw3X3",
        "outputId": "1e18aa1c-6bcb-4600-8847-ea0ba913ae26"
      },
      "execution_count": null,
      "outputs": [
        {
          "output_type": "stream",
          "name": "stdout",
          "text": [
            "I am a coder\n",
            "i am a cader\n",
            "8\n",
            "1\n"
          ]
        }
      ]
    },
    {
      "cell_type": "code",
      "source": [
        "#Q- Write a program to input users first name and print its length\n",
        "name = input(\"name\")\n",
        "print(\"length of name\" , len(name))\n",
        "\n"
      ],
      "metadata": {
        "colab": {
          "base_uri": "https://localhost:8080/"
        },
        "id": "2DGLN8Qixuao",
        "outputId": "736c9b9a-7bbc-4c23-ceca-97c3d8805f1c"
      },
      "execution_count": null,
      "outputs": [
        {
          "output_type": "stream",
          "name": "stdout",
          "text": [
            "name5\n",
            "length of name 1\n"
          ]
        }
      ]
    },
    {
      "cell_type": "code",
      "source": [
        "#Q- Write a program to count number of $in the string\n",
        "str = \"Hi, $I am the best coder in $canada\"\n",
        "str.count(\"$\")"
      ],
      "metadata": {
        "colab": {
          "base_uri": "https://localhost:8080/"
        },
        "id": "EEvp3ShF3I9u",
        "outputId": "d747d7d4-3b7c-4ae2-8e7b-d5fffc44c01a"
      },
      "execution_count": null,
      "outputs": [
        {
          "output_type": "execute_result",
          "data": {
            "text/plain": [
              "2"
            ]
          },
          "metadata": {},
          "execution_count": 42
        }
      ]
    },
    {
      "cell_type": "code",
      "source": [
        "#Conditional Statements\n",
        "#if\n",
        "age = 15\n",
        "if(age >= 18):\n",
        "  print(\"can vote and apply for DL\")\n",
        "else:\n",
        "  print(\"can't vote and apply for DL\")"
      ],
      "metadata": {
        "colab": {
          "base_uri": "https://localhost:8080/"
        },
        "id": "n0Q_3PtS5hse",
        "outputId": "e194249e-7c74-457b-f0fb-68835aee803e"
      },
      "execution_count": null,
      "outputs": [
        {
          "output_type": "stream",
          "name": "stdout",
          "text": [
            "can't vote and apply for DL\n"
          ]
        }
      ]
    },
    {
      "cell_type": "code",
      "source": [
        "#elif\n",
        "light = \"yellow\"\n",
        "\n",
        "if(light == \"green\"):\n",
        "  print(\"go\")\n",
        "elif(light == \"yellow\"):\n",
        "  print(\"wait\")\n",
        "elif(light == \"red\"):\n",
        "  print(\"stop\")\n",
        "else:\n",
        "  print(\"wrong signal\")"
      ],
      "metadata": {
        "colab": {
          "base_uri": "https://localhost:8080/"
        },
        "id": "Y7Z4t_vFZeav",
        "outputId": "b1f1961d-d0b3-4afe-9905-17b59b25f385"
      },
      "execution_count": null,
      "outputs": [
        {
          "output_type": "stream",
          "name": "stdout",
          "text": [
            "wait\n"
          ]
        }
      ]
    },
    {
      "cell_type": "code",
      "source": [
        "num = 4\n",
        "if(num >=5):\n",
        "  print(\"num is greater than 5\")\n",
        "else:\n",
        "  print( \"number is not greater\")"
      ],
      "metadata": {
        "colab": {
          "base_uri": "https://localhost:8080/"
        },
        "id": "xM0Q7T5DcYQm",
        "outputId": "6520f534-2c2a-4dfb-a41e-e21748ac3394"
      },
      "execution_count": null,
      "outputs": [
        {
          "output_type": "stream",
          "name": "stdout",
          "text": [
            "number is not greater\n"
          ]
        }
      ]
    },
    {
      "cell_type": "code",
      "source": [
        "marks = 80\n",
        "if(marks >= 90):\n",
        "  grade = \"A\"\n",
        "elif(marks >= 80):\n",
        "  grade = \"B\"\n",
        "elif(marks >= 70):\n",
        "  grade = \"C\"\n",
        "elif(marks >= 60):\n",
        "  grade = \"D\"\n",
        "else:\n",
        "  grade = \"F\"\n",
        "print(grade)"
      ],
      "metadata": {
        "colab": {
          "base_uri": "https://localhost:8080/"
        },
        "id": "KzJJS9bheaj2",
        "outputId": "7f8a7c8a-ce20-40f1-f206-3610521bc2b4"
      },
      "execution_count": null,
      "outputs": [
        {
          "output_type": "stream",
          "name": "stdout",
          "text": [
            "B\n"
          ]
        }
      ]
    },
    {
      "cell_type": "code",
      "source": [
        "a = input(\"enter first number\")\n",
        "b = input(\"enter second number\")\n",
        "c = input(\"enter third number\")\n",
        "d = input(\"enter fourth number\")\n",
        "\n",
        "if a>=b and a>=c and a>=d:\n",
        "  print(a,\"is largest\")\n",
        "elif b>=a and b>=c and c>=d:\n",
        "  print(b,\"is largest\")\n",
        "elif c>=a and c>=b and c>=d:\n",
        "  print(c,\"is largest\")\n",
        "else:\n",
        "  print(d,\"is largest\")\n"
      ],
      "metadata": {
        "colab": {
          "base_uri": "https://localhost:8080/"
        },
        "id": "OttpKgf7Cwu9",
        "outputId": "af48bd47-87d7-45cd-af79-9236f315aaa6"
      },
      "execution_count": null,
      "outputs": [
        {
          "output_type": "stream",
          "name": "stdout",
          "text": [
            "enter first number7\n",
            "enter second number6\n",
            "enter third number5\n",
            "enter fourth number4\n",
            "7 is largest\n"
          ]
        }
      ]
    },
    {
      "cell_type": "code",
      "source": [
        "#list and tuples\n",
        "marks = [94.5,93.6,97.1,92.1,97.4]\n",
        "print(marks)\n",
        "print(type(marks))\n",
        "print(marks[3])\n",
        "\n"
      ],
      "metadata": {
        "colab": {
          "base_uri": "https://localhost:8080/"
        },
        "id": "zYM6251PEEJm",
        "outputId": "b18a0071-d745-4e31-b175-614b57b015ea"
      },
      "execution_count": null,
      "outputs": [
        {
          "output_type": "stream",
          "name": "stdout",
          "text": [
            "[94.5, 93.6, 97.1, 92.1, 97.4]\n",
            "<class 'list'>\n",
            "92.1\n"
          ]
        }
      ]
    },
    {
      "cell_type": "code",
      "source": [
        "student = [\"Garvit\",26,\"Delhi\"]"
      ],
      "metadata": {
        "id": "6ARIKt5VFh9P"
      },
      "execution_count": null,
      "outputs": []
    }
  ]
}